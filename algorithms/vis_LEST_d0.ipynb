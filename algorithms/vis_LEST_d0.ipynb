{
  "nbformat": 4,
  "nbformat_minor": 0,
  "metadata": {
    "colab": {
      "name": "vis_LEST_d0.ipynb",
      "provenance": [],
      "collapsed_sections": []
    },
    "kernelspec": {
      "name": "python3",
      "display_name": "Python 3"
    },
    "language_info": {
      "name": "python"
    }
  },
  "cells": [
    {
      "cell_type": "markdown",
      "source": [
        "**Input files and variables**\n",
        "\n",
        "*   **Get meteorological model (coordenates and variables)**\n",
        "*   **Select metar and oberserved variable**\n",
        "\n",
        "*   **Variable observed: intervals and labels**\n",
        "\n",
        "**Output**\n",
        " \n",
        "*   **Show meteorological model nearests points map**\n",
        "*   **Observed variable climatology**\n",
        "\n",
        "\n",
        "\n",
        "\n",
        "\n"
      ],
      "metadata": {
        "id": "xIISxyVkOmnR"
      }
    },
    {
      "cell_type": "code",
      "source": [
        "import pandas as pd\n",
        "import plotly.express as px\n",
        "import numpy as np\n",
        "\n",
        "#get coordenates\n",
        "coor=pd.read_csv(\"/content/drive/MyDrive/Colab Notebooks/LEST_st/database/distan_lat42.898lon-8.418p5R4Km.csv\")\n",
        "\n",
        "#load model\n",
        "model = pd.read_csv(\"/content/drive/MyDrive/Colab Notebooks/LEST_st/database/lat42.898lon-8.418p5R4KmD0.csv\",\n",
        "                    parse_dates=[\"time\"]).set_index(\"time\")\n",
        "\n",
        "#load metar variable\n",
        "variable_metar = \"visibility_o\"\n",
        "var = pd.read_csv(\"/content/drive/MyDrive/Colab Notebooks/LEST_st/database/LEST.csv\",\n",
        "                  usecols=[\"time\",variable_metar],parse_dates=[\"time\"]).set_index(\"time\")   \n",
        "\n",
        "#match model and variable observed drop nan. \n",
        "all = pd.concat([model,var],axis=1).dropna()\n",
        "\n",
        "#variable to string interval. and new column :variable observed labeled\n",
        "interval=pd.IntervalIndex.from_tuples([(-0.1,1000), (1000, 40000)])\n",
        "labels=['<= 1000 m', '> 1000 m']\n",
        "all[\"var_o_l\"]=pd.cut(all.iloc[:,-1], bins=interval,retbins=False,\n",
        "                        labels=labels).map({a:b for a,b in zip(interval,labels)}).astype(str)\n",
        "#model variables\n",
        "X = all.iloc[:,:-2]\n",
        "\n",
        "#observed variable\n",
        "Y = all.iloc[:,-1:]\n",
        "\n",
        "#show results observed variable\n",
        "print(\"Observed variable results\")\n",
        "print(Y[\"var_o_l\"].value_counts())\n",
        "print(\"***************\")\n",
        "print(Y[\"var_o_l\"].value_counts(normalize=True))\n",
        "\n",
        "#show map\n",
        "px.set_mapbox_access_token(\"pk.eyJ1IjoiZ3JhbmFudHVpbiIsImEiOiJja3B4dGU4OTkwMTFmMm9ycnNhMjJvaGJqIn0.VWzx_PkD9A5cSUVsn_ijCA\")\n",
        "px.scatter_mapbox(coor, hover_data=['distance'],lat='lat', lon='lon',color='distance', title=\"Nearest points\",\n",
        "                           color_continuous_scale=px.colors.cyclical.IceFire,)"
      ],
      "metadata": {
        "id": "p70AlbMYKokj",
        "colab": {
          "base_uri": "https://localhost:8080/",
          "height": 681
        },
        "outputId": "82faf591-17ef-4fdf-a462-f965c51ed498"
      },
      "execution_count": null,
      "outputs": [
        {
          "output_type": "stream",
          "name": "stdout",
          "text": [
            "Observed variable results\n",
            "> 1000 m     64917\n",
            "<= 1000 m     1650\n",
            "Name: var_o_l, dtype: int64\n",
            "***************\n",
            "> 1000 m     0.975213\n",
            "<= 1000 m    0.024787\n",
            "Name: var_o_l, dtype: float64\n"
          ]
        },
        {
          "output_type": "display_data",
          "data": {
            "text/html": [
              "<html>\n",
              "<head><meta charset=\"utf-8\" /></head>\n",
              "<body>\n",
              "    <div>            <script src=\"https://cdnjs.cloudflare.com/ajax/libs/mathjax/2.7.5/MathJax.js?config=TeX-AMS-MML_SVG\"></script><script type=\"text/javascript\">if (window.MathJax) {MathJax.Hub.Config({SVG: {font: \"STIX-Web\"}});}</script>                <script type=\"text/javascript\">window.PlotlyConfig = {MathJaxConfig: 'local'};</script>\n",
              "        <script src=\"https://cdn.plot.ly/plotly-2.8.3.min.js\"></script>                <div id=\"8dd4b523-ea40-4b44-b8af-ec8aeaada6f9\" class=\"plotly-graph-div\" style=\"height:525px; width:100%;\"></div>            <script type=\"text/javascript\">                                    window.PLOTLYENV=window.PLOTLYENV || {};                                    if (document.getElementById(\"8dd4b523-ea40-4b44-b8af-ec8aeaada6f9\")) {                    Plotly.newPlot(                        \"8dd4b523-ea40-4b44-b8af-ec8aeaada6f9\",                        [{\"customdata\":[[2.18],[2.34],[3.51],[3.61],[5.4]],\"hovertemplate\":\"lat=%{lat}<br>lon=%{lon}<br>distance=%{marker.color}<extra></extra>\",\"lat\":[42.88149887862141,42.91738852548408,42.87906360284184,42.914951826465234,42.88391323101605],\"legendgroup\":\"\",\"lon\":[-8.432536009471237,-8.429224938795953,-8.38355936586536,-8.380219858087338,-8.481516511518489],\"marker\":{\"color\":[2.18,2.34,3.51,3.61,5.4],\"coloraxis\":\"coloraxis\"},\"mode\":\"markers\",\"name\":\"\",\"showlegend\":false,\"subplot\":\"mapbox\",\"type\":\"scattermapbox\"}],                        {\"template\":{\"data\":{\"bar\":[{\"error_x\":{\"color\":\"#2a3f5f\"},\"error_y\":{\"color\":\"#2a3f5f\"},\"marker\":{\"line\":{\"color\":\"#E5ECF6\",\"width\":0.5},\"pattern\":{\"fillmode\":\"overlay\",\"size\":10,\"solidity\":0.2}},\"type\":\"bar\"}],\"barpolar\":[{\"marker\":{\"line\":{\"color\":\"#E5ECF6\",\"width\":0.5},\"pattern\":{\"fillmode\":\"overlay\",\"size\":10,\"solidity\":0.2}},\"type\":\"barpolar\"}],\"carpet\":[{\"aaxis\":{\"endlinecolor\":\"#2a3f5f\",\"gridcolor\":\"white\",\"linecolor\":\"white\",\"minorgridcolor\":\"white\",\"startlinecolor\":\"#2a3f5f\"},\"baxis\":{\"endlinecolor\":\"#2a3f5f\",\"gridcolor\":\"white\",\"linecolor\":\"white\",\"minorgridcolor\":\"white\",\"startlinecolor\":\"#2a3f5f\"},\"type\":\"carpet\"}],\"choropleth\":[{\"colorbar\":{\"outlinewidth\":0,\"ticks\":\"\"},\"type\":\"choropleth\"}],\"contour\":[{\"colorbar\":{\"outlinewidth\":0,\"ticks\":\"\"},\"colorscale\":[[0.0,\"#0d0887\"],[0.1111111111111111,\"#46039f\"],[0.2222222222222222,\"#7201a8\"],[0.3333333333333333,\"#9c179e\"],[0.4444444444444444,\"#bd3786\"],[0.5555555555555556,\"#d8576b\"],[0.6666666666666666,\"#ed7953\"],[0.7777777777777778,\"#fb9f3a\"],[0.8888888888888888,\"#fdca26\"],[1.0,\"#f0f921\"]],\"type\":\"contour\"}],\"contourcarpet\":[{\"colorbar\":{\"outlinewidth\":0,\"ticks\":\"\"},\"type\":\"contourcarpet\"}],\"heatmap\":[{\"colorbar\":{\"outlinewidth\":0,\"ticks\":\"\"},\"colorscale\":[[0.0,\"#0d0887\"],[0.1111111111111111,\"#46039f\"],[0.2222222222222222,\"#7201a8\"],[0.3333333333333333,\"#9c179e\"],[0.4444444444444444,\"#bd3786\"],[0.5555555555555556,\"#d8576b\"],[0.6666666666666666,\"#ed7953\"],[0.7777777777777778,\"#fb9f3a\"],[0.8888888888888888,\"#fdca26\"],[1.0,\"#f0f921\"]],\"type\":\"heatmap\"}],\"heatmapgl\":[{\"colorbar\":{\"outlinewidth\":0,\"ticks\":\"\"},\"colorscale\":[[0.0,\"#0d0887\"],[0.1111111111111111,\"#46039f\"],[0.2222222222222222,\"#7201a8\"],[0.3333333333333333,\"#9c179e\"],[0.4444444444444444,\"#bd3786\"],[0.5555555555555556,\"#d8576b\"],[0.6666666666666666,\"#ed7953\"],[0.7777777777777778,\"#fb9f3a\"],[0.8888888888888888,\"#fdca26\"],[1.0,\"#f0f921\"]],\"type\":\"heatmapgl\"}],\"histogram\":[{\"marker\":{\"pattern\":{\"fillmode\":\"overlay\",\"size\":10,\"solidity\":0.2}},\"type\":\"histogram\"}],\"histogram2d\":[{\"colorbar\":{\"outlinewidth\":0,\"ticks\":\"\"},\"colorscale\":[[0.0,\"#0d0887\"],[0.1111111111111111,\"#46039f\"],[0.2222222222222222,\"#7201a8\"],[0.3333333333333333,\"#9c179e\"],[0.4444444444444444,\"#bd3786\"],[0.5555555555555556,\"#d8576b\"],[0.6666666666666666,\"#ed7953\"],[0.7777777777777778,\"#fb9f3a\"],[0.8888888888888888,\"#fdca26\"],[1.0,\"#f0f921\"]],\"type\":\"histogram2d\"}],\"histogram2dcontour\":[{\"colorbar\":{\"outlinewidth\":0,\"ticks\":\"\"},\"colorscale\":[[0.0,\"#0d0887\"],[0.1111111111111111,\"#46039f\"],[0.2222222222222222,\"#7201a8\"],[0.3333333333333333,\"#9c179e\"],[0.4444444444444444,\"#bd3786\"],[0.5555555555555556,\"#d8576b\"],[0.6666666666666666,\"#ed7953\"],[0.7777777777777778,\"#fb9f3a\"],[0.8888888888888888,\"#fdca26\"],[1.0,\"#f0f921\"]],\"type\":\"histogram2dcontour\"}],\"mesh3d\":[{\"colorbar\":{\"outlinewidth\":0,\"ticks\":\"\"},\"type\":\"mesh3d\"}],\"parcoords\":[{\"line\":{\"colorbar\":{\"outlinewidth\":0,\"ticks\":\"\"}},\"type\":\"parcoords\"}],\"pie\":[{\"automargin\":true,\"type\":\"pie\"}],\"scatter\":[{\"marker\":{\"colorbar\":{\"outlinewidth\":0,\"ticks\":\"\"}},\"type\":\"scatter\"}],\"scatter3d\":[{\"line\":{\"colorbar\":{\"outlinewidth\":0,\"ticks\":\"\"}},\"marker\":{\"colorbar\":{\"outlinewidth\":0,\"ticks\":\"\"}},\"type\":\"scatter3d\"}],\"scattercarpet\":[{\"marker\":{\"colorbar\":{\"outlinewidth\":0,\"ticks\":\"\"}},\"type\":\"scattercarpet\"}],\"scattergeo\":[{\"marker\":{\"colorbar\":{\"outlinewidth\":0,\"ticks\":\"\"}},\"type\":\"scattergeo\"}],\"scattergl\":[{\"marker\":{\"colorbar\":{\"outlinewidth\":0,\"ticks\":\"\"}},\"type\":\"scattergl\"}],\"scattermapbox\":[{\"marker\":{\"colorbar\":{\"outlinewidth\":0,\"ticks\":\"\"}},\"type\":\"scattermapbox\"}],\"scatterpolar\":[{\"marker\":{\"colorbar\":{\"outlinewidth\":0,\"ticks\":\"\"}},\"type\":\"scatterpolar\"}],\"scatterpolargl\":[{\"marker\":{\"colorbar\":{\"outlinewidth\":0,\"ticks\":\"\"}},\"type\":\"scatterpolargl\"}],\"scatterternary\":[{\"marker\":{\"colorbar\":{\"outlinewidth\":0,\"ticks\":\"\"}},\"type\":\"scatterternary\"}],\"surface\":[{\"colorbar\":{\"outlinewidth\":0,\"ticks\":\"\"},\"colorscale\":[[0.0,\"#0d0887\"],[0.1111111111111111,\"#46039f\"],[0.2222222222222222,\"#7201a8\"],[0.3333333333333333,\"#9c179e\"],[0.4444444444444444,\"#bd3786\"],[0.5555555555555556,\"#d8576b\"],[0.6666666666666666,\"#ed7953\"],[0.7777777777777778,\"#fb9f3a\"],[0.8888888888888888,\"#fdca26\"],[1.0,\"#f0f921\"]],\"type\":\"surface\"}],\"table\":[{\"cells\":{\"fill\":{\"color\":\"#EBF0F8\"},\"line\":{\"color\":\"white\"}},\"header\":{\"fill\":{\"color\":\"#C8D4E3\"},\"line\":{\"color\":\"white\"}},\"type\":\"table\"}]},\"layout\":{\"annotationdefaults\":{\"arrowcolor\":\"#2a3f5f\",\"arrowhead\":0,\"arrowwidth\":1},\"autotypenumbers\":\"strict\",\"coloraxis\":{\"colorbar\":{\"outlinewidth\":0,\"ticks\":\"\"}},\"colorscale\":{\"diverging\":[[0,\"#8e0152\"],[0.1,\"#c51b7d\"],[0.2,\"#de77ae\"],[0.3,\"#f1b6da\"],[0.4,\"#fde0ef\"],[0.5,\"#f7f7f7\"],[0.6,\"#e6f5d0\"],[0.7,\"#b8e186\"],[0.8,\"#7fbc41\"],[0.9,\"#4d9221\"],[1,\"#276419\"]],\"sequential\":[[0.0,\"#0d0887\"],[0.1111111111111111,\"#46039f\"],[0.2222222222222222,\"#7201a8\"],[0.3333333333333333,\"#9c179e\"],[0.4444444444444444,\"#bd3786\"],[0.5555555555555556,\"#d8576b\"],[0.6666666666666666,\"#ed7953\"],[0.7777777777777778,\"#fb9f3a\"],[0.8888888888888888,\"#fdca26\"],[1.0,\"#f0f921\"]],\"sequentialminus\":[[0.0,\"#0d0887\"],[0.1111111111111111,\"#46039f\"],[0.2222222222222222,\"#7201a8\"],[0.3333333333333333,\"#9c179e\"],[0.4444444444444444,\"#bd3786\"],[0.5555555555555556,\"#d8576b\"],[0.6666666666666666,\"#ed7953\"],[0.7777777777777778,\"#fb9f3a\"],[0.8888888888888888,\"#fdca26\"],[1.0,\"#f0f921\"]]},\"colorway\":[\"#636efa\",\"#EF553B\",\"#00cc96\",\"#ab63fa\",\"#FFA15A\",\"#19d3f3\",\"#FF6692\",\"#B6E880\",\"#FF97FF\",\"#FECB52\"],\"font\":{\"color\":\"#2a3f5f\"},\"geo\":{\"bgcolor\":\"white\",\"lakecolor\":\"white\",\"landcolor\":\"#E5ECF6\",\"showlakes\":true,\"showland\":true,\"subunitcolor\":\"white\"},\"hoverlabel\":{\"align\":\"left\"},\"hovermode\":\"closest\",\"mapbox\":{\"style\":\"light\"},\"paper_bgcolor\":\"white\",\"plot_bgcolor\":\"#E5ECF6\",\"polar\":{\"angularaxis\":{\"gridcolor\":\"white\",\"linecolor\":\"white\",\"ticks\":\"\"},\"bgcolor\":\"#E5ECF6\",\"radialaxis\":{\"gridcolor\":\"white\",\"linecolor\":\"white\",\"ticks\":\"\"}},\"scene\":{\"xaxis\":{\"backgroundcolor\":\"#E5ECF6\",\"gridcolor\":\"white\",\"gridwidth\":2,\"linecolor\":\"white\",\"showbackground\":true,\"ticks\":\"\",\"zerolinecolor\":\"white\"},\"yaxis\":{\"backgroundcolor\":\"#E5ECF6\",\"gridcolor\":\"white\",\"gridwidth\":2,\"linecolor\":\"white\",\"showbackground\":true,\"ticks\":\"\",\"zerolinecolor\":\"white\"},\"zaxis\":{\"backgroundcolor\":\"#E5ECF6\",\"gridcolor\":\"white\",\"gridwidth\":2,\"linecolor\":\"white\",\"showbackground\":true,\"ticks\":\"\",\"zerolinecolor\":\"white\"}},\"shapedefaults\":{\"line\":{\"color\":\"#2a3f5f\"}},\"ternary\":{\"aaxis\":{\"gridcolor\":\"white\",\"linecolor\":\"white\",\"ticks\":\"\"},\"baxis\":{\"gridcolor\":\"white\",\"linecolor\":\"white\",\"ticks\":\"\"},\"bgcolor\":\"#E5ECF6\",\"caxis\":{\"gridcolor\":\"white\",\"linecolor\":\"white\",\"ticks\":\"\"}},\"title\":{\"x\":0.05},\"xaxis\":{\"automargin\":true,\"gridcolor\":\"white\",\"linecolor\":\"white\",\"ticks\":\"\",\"title\":{\"standoff\":15},\"zerolinecolor\":\"white\",\"zerolinewidth\":2},\"yaxis\":{\"automargin\":true,\"gridcolor\":\"white\",\"linecolor\":\"white\",\"ticks\":\"\",\"title\":{\"standoff\":15},\"zerolinecolor\":\"white\",\"zerolinewidth\":2}}},\"mapbox\":{\"domain\":{\"x\":[0.0,1.0],\"y\":[0.0,1.0]},\"center\":{\"lat\":42.89536321288572,\"lon\":-8.421411336747676},\"accesstoken\":\"pk.eyJ1IjoiZ3JhbmFudHVpbiIsImEiOiJja3B4dGU4OTkwMTFmMm9ycnNhMjJvaGJqIn0.VWzx_PkD9A5cSUVsn_ijCA\",\"zoom\":8},\"coloraxis\":{\"colorbar\":{\"title\":{\"text\":\"distance\"}},\"colorscale\":[[0.0,\"#000000\"],[0.0625,\"#001f4d\"],[0.125,\"#003786\"],[0.1875,\"#0e58a8\"],[0.25,\"#217eb8\"],[0.3125,\"#30a4ca\"],[0.375,\"#54c8df\"],[0.4375,\"#9be4ef\"],[0.5,\"#e1e9d1\"],[0.5625,\"#f3d573\"],[0.625,\"#e7b000\"],[0.6875,\"#da8200\"],[0.75,\"#c65400\"],[0.8125,\"#ac2301\"],[0.875,\"#820000\"],[0.9375,\"#4c0000\"],[1.0,\"#000000\"]]},\"legend\":{\"tracegroupgap\":0},\"title\":{\"text\":\"Nearest points\"}},                        {\"responsive\": true}                    ).then(function(){\n",
              "                            \n",
              "var gd = document.getElementById('8dd4b523-ea40-4b44-b8af-ec8aeaada6f9');\n",
              "var x = new MutationObserver(function (mutations, observer) {{\n",
              "        var display = window.getComputedStyle(gd).display;\n",
              "        if (!display || display === 'none') {{\n",
              "            console.log([gd, 'removed!']);\n",
              "            Plotly.purge(gd);\n",
              "            observer.disconnect();\n",
              "        }}\n",
              "}});\n",
              "\n",
              "// Listen for the removal of the full notebook cells\n",
              "var notebookContainer = gd.closest('#notebook-container');\n",
              "if (notebookContainer) {{\n",
              "    x.observe(notebookContainer, {childList: true});\n",
              "}}\n",
              "\n",
              "// Listen for the clearing of the current output cell\n",
              "var outputEl = gd.closest('.output');\n",
              "if (outputEl) {{\n",
              "    x.observe(outputEl, {childList: true});\n",
              "}}\n",
              "\n",
              "                        })                };                            </script>        </div>\n",
              "</body>\n",
              "</html>"
            ]
          },
          "metadata": {}
        }
      ]
    },
    {
      "cell_type": "markdown",
      "source": [
        "**Compare model variable (several points) labeled and observed variable**"
      ],
      "metadata": {
        "id": "TvwXHV7eWr-0"
      }
    },
    {
      "cell_type": "code",
      "source": [
        "from sklearn.metrics import classification_report\n",
        "import math\n",
        "from scipy.stats import entropy\n",
        "\n",
        "#label meteorological model vis points 0 to n_points\n",
        "var_model = \"visibility\"\n",
        "n_points = 5\n",
        "\n",
        "\n",
        "for p in range (0,n_points):\n",
        "  X[var_model+str(p)+\"_l\"] = pd.cut(X[var_model+str(p)], bins=interval,retbins=False,\n",
        "                                  labels=labels).map({a:b for a,b in zip(interval,labels)}).astype(str)\n",
        "  print(\"Model point \"+str(p)+\" results\\n\",X[var_model+str(p)+\"_l\"].value_counts(normalize=True))\n",
        "\n",
        "  table = pd.crosstab(Y.var_o_l, X[var_model+str(p)+\"_l\"],margins=True,)\n",
        "  print(\"Confusion matrix\\n\",table)\n",
        "  \n",
        "\n",
        "  # Heidke Skill Score (HSS). Binary labels\n",
        "  if len(labels) == 2:\n",
        "    a = table.values[0,0]\n",
        "    b = table.values[1,0]\n",
        "    c = table.values[0,1]\n",
        "    d = table.values[1,1]\n",
        "    hss = 2*(a*d-b*c)/((a+c)*(c+d)+(a+b)*(b+d))\n",
        "    print(\" Heidke Skill Score:\",round(hss,2))\n",
        "\n",
        "  \n",
        "  column_sc=pd.crosstab(Y.var_o_l,X[var_model+str(p)+\"_l\"] , margins=True,normalize=\"columns\")\n",
        "  column_sc=column_sc.append(pd.DataFrame(entropy(column_sc,base=2)/(math.log2(column_sc.shape[0])),columns=[\"entropy/entropy.max\"],\n",
        "                                          index=column_sc.columns).T).rename(columns={\"All\":\"Climatology\"})\n",
        "  print (\"Precision and entropy meteorologic model\\n\",column_sc) \n",
        "  print(\"Quality report meteorologic model\\n\",pd.DataFrame(classification_report(Y.var_o_l, X[var_model+str(p)+\"_l\"],output_dict=True)).T)                                         \n",
        "  print(\"**************************************************************\")\n",
        "\n",
        "#delete columns model variable labeled\n",
        "X = X.drop(list(X)[-n_points:], axis=1)  "
      ],
      "metadata": {
        "colab": {
          "base_uri": "https://localhost:8080/"
        },
        "id": "Jf3jAOcdMOcN",
        "outputId": "44f8413a-ba69-414c-e1df-1e9983b3d25e"
      },
      "execution_count": null,
      "outputs": [
        {
          "output_type": "stream",
          "name": "stdout",
          "text": [
            "Model point 0 results\n",
            " > 1000 m     0.908048\n",
            "<= 1000 m    0.091952\n",
            "Name: visibility0_l, dtype: float64\n",
            "Confusion matrix\n",
            " visibility0_l  <= 1000 m  > 1000 m    All\n",
            "var_o_l                                  \n",
            "<= 1000 m            732       918   1650\n",
            "> 1000 m            5389     59528  64917\n",
            "All                 6121     60446  66567\n",
            " Heidke Skill Score: 0.16\n",
            "Precision and entropy meteorologic model\n",
            " visibility0_l        <= 1000 m  > 1000 m  Climatology\n",
            "<= 1000 m             0.119588  0.015187     0.024787\n",
            "> 1000 m              0.880412  0.984813     0.975213\n",
            "entropy/entropy.max   0.528176  0.113489     0.167534\n",
            "Quality report meteorologic model\n",
            "               precision    recall  f1-score       support\n",
            "<= 1000 m      0.119588  0.443636  0.188393   1650.000000\n",
            "> 1000 m       0.984813  0.916986  0.949690  64917.000000\n",
            "accuracy       0.905253  0.905253  0.905253      0.905253\n",
            "macro avg      0.552201  0.680311  0.569041  66567.000000\n",
            "weighted avg   0.963367  0.905253  0.930820  66567.000000\n",
            "**************************************************************\n",
            "Model point 1 results\n",
            " > 1000 m     0.914282\n",
            "<= 1000 m    0.085718\n",
            "Name: visibility1_l, dtype: float64\n",
            "Confusion matrix\n",
            " visibility1_l  <= 1000 m  > 1000 m    All\n",
            "var_o_l                                  \n",
            "<= 1000 m            749       901   1650\n",
            "> 1000 m            4957     59960  64917\n",
            "All                 5706     60861  66567\n",
            " Heidke Skill Score: 0.17\n",
            "Precision and entropy meteorologic model\n",
            " visibility1_l        <= 1000 m  > 1000 m  Climatology\n",
            "<= 1000 m             0.131265  0.014804     0.024787\n",
            "> 1000 m              0.868735  0.985196     0.975213\n",
            "entropy/entropy.max   0.560898  0.111177     0.167534\n",
            "Quality report meteorologic model\n",
            "               precision    recall  f1-score       support\n",
            "<= 1000 m      0.131265  0.453939  0.203643   1650.000000\n",
            "> 1000 m       0.985196  0.923641  0.953426  64917.000000\n",
            "accuracy       0.911998  0.911998  0.911998      0.911998\n",
            "macro avg      0.558231  0.688790  0.578535  66567.000000\n",
            "weighted avg   0.964029  0.911998  0.934841  66567.000000\n",
            "**************************************************************\n",
            "Model point 2 results\n",
            " > 1000 m     0.940887\n",
            "<= 1000 m    0.059113\n",
            "Name: visibility2_l, dtype: float64\n",
            "Confusion matrix\n",
            " visibility2_l  <= 1000 m  > 1000 m    All\n",
            "var_o_l                                  \n",
            "<= 1000 m            561      1089   1650\n",
            "> 1000 m            3374     61543  64917\n",
            "All                 3935     62632  66567\n",
            " Heidke Skill Score: 0.17\n",
            "Precision and entropy meteorologic model\n",
            " visibility2_l        <= 1000 m  > 1000 m  Climatology\n",
            "<= 1000 m             0.142567  0.017387     0.024787\n",
            "> 1000 m              0.857433  0.982613     0.975213\n",
            "entropy/entropy.max   0.590922  0.126508     0.167534\n",
            "Quality report meteorologic model\n",
            "               precision    recall  f1-score       support\n",
            "<= 1000 m      0.142567  0.340000  0.200895   1650.000000\n",
            "> 1000 m       0.982613  0.948026  0.965010  64917.000000\n",
            "accuracy       0.932955  0.932955  0.932955      0.932955\n",
            "macro avg      0.562590  0.644013  0.582952  66567.000000\n",
            "weighted avg   0.961790  0.932955  0.946069  66567.000000\n",
            "**************************************************************\n",
            "Model point 3 results\n",
            " > 1000 m     0.924347\n",
            "<= 1000 m    0.075653\n",
            "Name: visibility3_l, dtype: float64\n",
            "Confusion matrix\n",
            " visibility3_l  <= 1000 m  > 1000 m    All\n",
            "var_o_l                                  \n",
            "<= 1000 m            676       974   1650\n",
            "> 1000 m            4360     60557  64917\n",
            "All                 5036     61531  66567\n",
            " Heidke Skill Score: 0.17\n",
            "Precision and entropy meteorologic model\n",
            " visibility3_l        <= 1000 m  > 1000 m  Climatology\n",
            "<= 1000 m             0.134234  0.015829     0.024787\n",
            "> 1000 m              0.865766  0.984171     0.975213\n",
            "entropy/entropy.max   0.568935  0.117335     0.167534\n",
            "Quality report meteorologic model\n",
            "               precision    recall  f1-score      support\n",
            "<= 1000 m      0.134234  0.409697  0.202214   1650.00000\n",
            "> 1000 m       0.984171  0.932837  0.957817  64917.00000\n",
            "accuracy       0.919870  0.919870  0.919870      0.91987\n",
            "macro avg      0.559202  0.671267  0.580015  66567.00000\n",
            "weighted avg   0.963103  0.919870  0.939087  66567.00000\n",
            "**************************************************************\n",
            "Model point 4 results\n",
            " > 1000 m     0.897952\n",
            "<= 1000 m    0.102048\n",
            "Name: visibility4_l, dtype: float64\n",
            "Confusion matrix\n",
            " visibility4_l  <= 1000 m  > 1000 m    All\n",
            "var_o_l                                  \n",
            "<= 1000 m            760       890   1650\n",
            "> 1000 m            6033     58884  64917\n",
            "All                 6793     59774  66567\n",
            " Heidke Skill Score: 0.15\n",
            "Precision and entropy meteorologic model\n",
            " visibility4_l        <= 1000 m  > 1000 m  Climatology\n",
            "<= 1000 m              0.11188  0.014889     0.024787\n",
            "> 1000 m               0.88812  0.985111     0.975213\n",
            "entropy/entropy.max    0.50556  0.111693     0.167534\n",
            "Quality report meteorologic model\n",
            "               precision    recall  f1-score    support\n",
            "<= 1000 m      0.111880  0.460606  0.180031   1650.000\n",
            "> 1000 m       0.985111  0.907066  0.944479  64917.000\n",
            "accuracy       0.896000  0.896000  0.896000      0.896\n",
            "macro avg      0.548495  0.683836  0.562255  66567.000\n",
            "weighted avg   0.963466  0.896000  0.925530  66567.000\n",
            "**************************************************************\n"
          ]
        }
      ]
    },
    {
      "cell_type": "markdown",
      "source": [
        "**Machine learning**\n",
        "1.   **Correlation observed variable and model variables**\n",
        "\n",
        "\n"
      ],
      "metadata": {
        "id": "ESjazpb1lx10"
      }
    },
    {
      "cell_type": "code",
      "source": [
        "#Correlation target and features\n",
        "pd.options.display.max_rows=999\n",
        "\n",
        "corre = all.corr().loc[variable_metar].sort_values()\n",
        "corre_f = pd.DataFrame(corre[~corre.between(-.35, .35, inclusive=False)])\n",
        "print(corre_f)\n",
        "print(corre_f.index)\n"
      ],
      "metadata": {
        "colab": {
          "base_uri": "https://localhost:8080/"
        },
        "id": "KISkS6KfmBmw",
        "outputId": "3f29e236-e88b-4a1e-eb4f-0c34cce70550"
      },
      "execution_count": null,
      "outputs": [
        {
          "output_type": "stream",
          "name": "stdout",
          "text": [
            "              visibility_o\n",
            "cfl2             -0.387654\n",
            "cfl0             -0.387489\n",
            "cfl1             -0.386692\n",
            "cfl3             -0.384712\n",
            "cfl4             -0.383594\n",
            "rh4              -0.354194\n",
            "rh3              -0.353213\n",
            "rh2              -0.351426\n",
            "visibility3       0.357524\n",
            "visibility1       0.365982\n",
            "visibility0       0.382084\n",
            "visibility4       0.407318\n",
            "visibility_o      1.000000\n",
            "Index(['cfl2', 'cfl0', 'cfl1', 'cfl3', 'cfl4', 'rh4', 'rh3', 'rh2',\n",
            "       'visibility3', 'visibility1', 'visibility0', 'visibility4',\n",
            "       'visibility_o'],\n",
            "      dtype='object')\n"
          ]
        },
        {
          "output_type": "stream",
          "name": "stderr",
          "text": [
            "/usr/local/lib/python3.7/dist-packages/ipykernel_launcher.py:5: FutureWarning:\n",
            "\n",
            "Boolean inputs to the `inclusive` argument are deprecated infavour of `both` or `neither`.\n",
            "\n"
          ]
        }
      ]
    },
    {
      "cell_type": "markdown",
      "source": [
        "**Input**\n",
        "\n",
        "\n",
        "*   **X variables from metereological model**\n",
        "*   **Resample unbalanced variables SMOTE library**\n",
        "*   **Scaled variables**\n",
        "*   **PCA n components**\n",
        "\n",
        "\n",
        "*   **AI model selection and tune**\n",
        "\n",
        "\n",
        "\n",
        "\n",
        "**Output**\n",
        "\n",
        "\n",
        "*   **Trained AI model**\n",
        "*   **Trained AI model score**\n",
        "\n",
        "\n",
        "\n",
        "\n",
        "\n"
      ],
      "metadata": {
        "id": "oMXbIi8sYXJl"
      }
    },
    {
      "cell_type": "code",
      "source": [
        "#Run the machine learning model\n",
        "from scipy.stats import entropy\n",
        "import math\n",
        "from sklearn.metrics import classification_report\n",
        "from sklearn.ensemble import ExtraTreesClassifier\n",
        "from lightgbm.sklearn import LGBMClassifier\n",
        "from sklearn.neural_network import MLPClassifier\n",
        "from sklearn.model_selection import train_test_split\n",
        "from imblearn.over_sampling import SMOTE\n",
        "from sklearn.decomposition import PCA\n",
        "from sklearn.preprocessing import StandardScaler\n",
        "\n",
        "#PCA number\n",
        "pca_n = 4\n",
        "\n",
        "#with or without PCA\n",
        "raw_data = True\n",
        "\n",
        "#select model variables\n",
        "\"\"\"\n",
        "#x_var = ['visibility0', 'visibility1', 'visibility4', 'lwflx2', 'visibility9',\n",
        "       'mod0', 'dir2', 'dir9', 'cin7', 'rh3', 'wind_gust9', 'shflx7', 'dir8',\n",
        "       'cft3', 'cin8', 'lhflx8', 'cfl9', 'visibility3', 'temp3', 'dir4',\n",
        "       'cfl4', 'lwflx4', 'dir6', 'visibility2']\n",
        "\"\"\"       \n",
        "x_var = X.columns\n",
        "\n",
        "#split data test and train\n",
        "X_train, X_test, y_train, y_test = train_test_split(X[x_var],Y.values.reshape(-1, 1),\n",
        "                                                    test_size=0.1,)\n",
        "\n",
        "# Resample\n",
        "X_res, y_res =SMOTE().fit_resample(X_train,y_train)\n",
        "\n",
        "#scale Xtrain\n",
        "scale = StandardScaler().fit(X_res)\n",
        "Xs_train = scale.transform(X_res)\n",
        "\n",
        "#pca\n",
        "pca = PCA(n_components=pca_n).fit(Xs_train)\n",
        "pca_train= pca.transform(Xs_train)\n",
        "\n",
        "\n",
        "#fit model\n",
        "if raw_data:\n",
        "  #ml_model = ExtraTreesClassifier(n_estimators=150).fit(X_res,y_res)\n",
        "  ml_model = LGBMClassifier(n_estimators=250).fit(X_res,y_res)\n",
        "  #ml_model = MLPClassifier(hidden_layer_sizes=(100,100,50), random_state=1, max_iter=300).fit(X_res,y_res)\n",
        "  y_pred = ml_model.predict(X_test)\n",
        "else:\n",
        "  #ml_model = ExtraTreesClassifier(n_estimators=150).fit(pca_train,y_res)\n",
        "  ml_model = MLPClassifier(hidden_layer_sizes=(100,100,50), random_state=1, max_iter=300).fit(pca_train,y_res)\n",
        "  #ml_model=LGBMClassifier(n_estimators=250).fit(X_train,y_train)\n",
        "  y_pred = ml_model.predict(pca.transform(scale.transform(X_test)))\n",
        "\n",
        "\n",
        "table = pd.crosstab( y_test.reshape(1,-1)[0],y_pred,margins=True,)\n",
        "print(\"Confusion matrix\\n\",table)\n",
        "print(\"**************************************\")\n",
        "\n",
        "column_sc=pd.crosstab(y_test.reshape(1,-1)[0],y_pred , margins=True,normalize=\"columns\")\n",
        "column_sc=column_sc.append(pd.DataFrame(entropy(column_sc,base=2)/(math.log2(column_sc.shape[0])),columns=[\"entropy/entropy.max\"],\n",
        "                                        index=column_sc.columns).T).rename(columns={\"All\":\"Climatology\"})\n",
        "\n",
        "print (\"Precision and entropy AI\\n\",column_sc)  \n",
        "\n",
        "# Heidke Skill Score (HSS). Binary labels\n",
        "if len(labels) == 2:\n",
        "  a = table.values[0,0]\n",
        "  b = table.values[1,0]\n",
        "  c = table.values[0,1]\n",
        "  d = table.values[1,1]\n",
        "  hss = 2*(a*d-b*c)/((a+c)*(c+d)+(a+b)*(b+d))\n",
        "  print(\" Heidke Skill Score:\",round(hss,2))\n",
        "\n",
        "print(\"**************************************\")\n",
        "print(\"Quality report AI\\n\",pd.DataFrame(classification_report(y_test.reshape(1,-1)[0],y_pred,output_dict=True)).T)\n",
        "\n"
      ],
      "metadata": {
        "colab": {
          "base_uri": "https://localhost:8080/"
        },
        "id": "_dI9ysicqSUA",
        "outputId": "04104018-df8a-4c40-aab0-bc0e9371e7ea"
      },
      "execution_count": null,
      "outputs": [
        {
          "output_type": "stream",
          "name": "stdout",
          "text": [
            "Confusion matrix\n",
            " col_0      <= 1000 m  > 1000 m   All\n",
            "row_0                               \n",
            "<= 1000 m         94        80   174\n",
            "> 1000 m         154      6329  6483\n",
            "All              248      6409  6657\n",
            "**************************************\n",
            "Precision and entropy AI\n",
            " col_0                <= 1000 m  > 1000 m  Climatology\n",
            "<= 1000 m             0.379032  0.012482     0.026138\n",
            "> 1000 m              0.620968  0.987518     0.973862\n",
            "entropy/entropy.max   0.957356  0.096834     0.174637\n",
            " Heidke Skill Score: 0.43\n",
            "**************************************\n",
            "Quality report AI\n",
            "               precision    recall  f1-score      support\n",
            "<= 1000 m      0.379032  0.540230  0.445498   174.000000\n",
            "> 1000 m       0.987518  0.976246  0.981849  6483.000000\n",
            "accuracy       0.964849  0.964849  0.964849     0.964849\n",
            "macro avg      0.683275  0.758238  0.713673  6657.000000\n",
            "weighted avg   0.971613  0.964849  0.967830  6657.000000\n"
          ]
        }
      ]
    },
    {
      "cell_type": "markdown",
      "source": [
        "**Cross validation**"
      ],
      "metadata": {
        "id": "hbN5w4pfcQ0U"
      }
    },
    {
      "cell_type": "code",
      "source": [
        "from sklearn.model_selection import ShuffleSplit\n",
        "from sklearn.model_selection import cross_validate\n",
        "\n",
        "print(\"cross validation. waiting...\")\n",
        "cv = ShuffleSplit(n_splits=5, test_size=0.1, random_state=100)\n",
        "if raw_data:\n",
        "  cros_val_dict=cross_validate(ml_model, X, Y.values.reshape(1, -1)[0], cv=cv,scoring=[\"accuracy\",'f1_macro',\"f1_weighted\"]) \n",
        "else:\n",
        "  cros_val_dict=cross_validate(ml_model, pca.fit_transform(scale.fit_transform(X)), Y.values.reshape(1, -1)[0], cv=cv,scoring=[\"accuracy\",'f1_macro',\"f1_weighted\"])\n",
        "cros_val=pd.DataFrame(cros_val_dict)  \n",
        "print(\"f1_weighted: %0.2f (+/- %0.2f)\" % (cros_val_dict['test_f1_weighted'].mean(), cros_val_dict['test_f1_weighted'].std() * 2))\n",
        "print(\"Accuracy: %0.2f (+/- %0.2f)\" % (cros_val_dict['test_accuracy'].mean(), cros_val_dict['test_accuracy'].std() * 2))"
      ],
      "metadata": {
        "colab": {
          "base_uri": "https://localhost:8080/"
        },
        "id": "Q6xup25sXi23",
        "outputId": "26b063ed-af98-4a2b-a5f0-2c0c84245d74"
      },
      "execution_count": null,
      "outputs": [
        {
          "output_type": "stream",
          "name": "stdout",
          "text": [
            "cross validation. waiting...\n",
            "f1_weighted: 0.93 (+/- 0.00)\n",
            "Accuracy: 0.95 (+/- 0.00)\n"
          ]
        }
      ]
    },
    {
      "cell_type": "markdown",
      "source": [
        "**Export model**"
      ],
      "metadata": {
        "id": "oiZg-5_ReJ9U"
      }
    },
    {
      "cell_type": "code",
      "source": [
        "import pickle\n",
        "model_dict={\"x_var\":x_var,\"ml_model\":ml_model,\"coor\":coor}\n",
        "pickle.dump(model_dict, open(\"vis_LEST_d0.al\", 'wb'))"
      ],
      "metadata": {
        "id": "angvlX4JePkJ"
      },
      "execution_count": null,
      "outputs": []
    }
  ]
}